{
 "cells": [
  {
   "cell_type": "markdown",
   "metadata": {},
   "source": [
    "1. взять любой набор данных для бинарной классификации (можно скачать один из модельных с https://archive.ics.uci.edu/ml/datasets.php)"
   ]
  },
  {
   "cell_type": "code",
   "execution_count": 35,
   "metadata": {},
   "outputs": [],
   "source": [
    "import pandas as pd\n",
    "import numpy as np\n",
    "from sklearn.model_selection import train_test_split\n",
    "from catboost import CatBoostClassifier\n",
    "from sklearn.metrics import recall_score, precision_score, roc_auc_score, accuracy_score, f1_score"
   ]
  },
  {
   "cell_type": "code",
   "execution_count": 36,
   "metadata": {},
   "outputs": [
    {
     "data": {
      "text/html": [
       "<div>\n",
       "<style scoped>\n",
       "    .dataframe tbody tr th:only-of-type {\n",
       "        vertical-align: middle;\n",
       "    }\n",
       "\n",
       "    .dataframe tbody tr th {\n",
       "        vertical-align: top;\n",
       "    }\n",
       "\n",
       "    .dataframe thead th {\n",
       "        text-align: right;\n",
       "    }\n",
       "</style>\n",
       "<table border=\"1\" class=\"dataframe\">\n",
       "  <thead>\n",
       "    <tr style=\"text-align: right;\">\n",
       "      <th></th>\n",
       "      <th>Person ID</th>\n",
       "      <th>Gender</th>\n",
       "      <th>Age</th>\n",
       "      <th>Occupation</th>\n",
       "      <th>Sleep Duration</th>\n",
       "      <th>Quality of Sleep</th>\n",
       "      <th>Physical Activity Level</th>\n",
       "      <th>Stress Level</th>\n",
       "      <th>BMI Category</th>\n",
       "      <th>Blood Pressure</th>\n",
       "      <th>Heart Rate</th>\n",
       "      <th>Daily Steps</th>\n",
       "      <th>Sleep Disorder</th>\n",
       "    </tr>\n",
       "  </thead>\n",
       "  <tbody>\n",
       "    <tr>\n",
       "      <th>0</th>\n",
       "      <td>1</td>\n",
       "      <td>Male</td>\n",
       "      <td>27</td>\n",
       "      <td>Software Engineer</td>\n",
       "      <td>6.1</td>\n",
       "      <td>6</td>\n",
       "      <td>42</td>\n",
       "      <td>6</td>\n",
       "      <td>Overweight</td>\n",
       "      <td>126/83</td>\n",
       "      <td>77</td>\n",
       "      <td>4200</td>\n",
       "      <td>NaN</td>\n",
       "    </tr>\n",
       "    <tr>\n",
       "      <th>1</th>\n",
       "      <td>2</td>\n",
       "      <td>Male</td>\n",
       "      <td>28</td>\n",
       "      <td>Doctor</td>\n",
       "      <td>6.2</td>\n",
       "      <td>6</td>\n",
       "      <td>60</td>\n",
       "      <td>8</td>\n",
       "      <td>Normal</td>\n",
       "      <td>125/80</td>\n",
       "      <td>75</td>\n",
       "      <td>10000</td>\n",
       "      <td>NaN</td>\n",
       "    </tr>\n",
       "    <tr>\n",
       "      <th>2</th>\n",
       "      <td>3</td>\n",
       "      <td>Male</td>\n",
       "      <td>28</td>\n",
       "      <td>Doctor</td>\n",
       "      <td>6.2</td>\n",
       "      <td>6</td>\n",
       "      <td>60</td>\n",
       "      <td>8</td>\n",
       "      <td>Normal</td>\n",
       "      <td>125/80</td>\n",
       "      <td>75</td>\n",
       "      <td>10000</td>\n",
       "      <td>NaN</td>\n",
       "    </tr>\n",
       "  </tbody>\n",
       "</table>\n",
       "</div>"
      ],
      "text/plain": [
       "   Person ID Gender  Age         Occupation  Sleep Duration  Quality of Sleep   \n",
       "0          1   Male   27  Software Engineer             6.1                 6  \\\n",
       "1          2   Male   28             Doctor             6.2                 6   \n",
       "2          3   Male   28             Doctor             6.2                 6   \n",
       "\n",
       "   Physical Activity Level  Stress Level BMI Category Blood Pressure   \n",
       "0                       42             6   Overweight         126/83  \\\n",
       "1                       60             8       Normal         125/80   \n",
       "2                       60             8       Normal         125/80   \n",
       "\n",
       "   Heart Rate  Daily Steps Sleep Disorder  \n",
       "0          77         4200            NaN  \n",
       "1          75        10000            NaN  \n",
       "2          75        10000            NaN  "
      ]
     },
     "execution_count": 36,
     "metadata": {},
     "output_type": "execute_result"
    }
   ],
   "source": [
    "df = pd.read_csv('Sleep_health_and_lifestyle_dataset.csv')\n",
    "df.head(3)"
   ]
  },
  {
   "cell_type": "markdown",
   "metadata": {},
   "source": [
    "3. сделать feature engineering"
   ]
  },
  {
   "cell_type": "code",
   "execution_count": 37,
   "metadata": {},
   "outputs": [],
   "source": [
    "df['Gender'] = df['Gender'].map({'Male': 1, 'Female': 0})\n",
    "df['Occupation'] = df['Occupation'].map({v: i for i, v in enumerate(df['Occupation'].unique())})\n",
    "df['BMI Category'] = df['BMI Category'].map({'Normal': 0, 'Normal Weight': 0, 'Obese': 1, 'Overweight': 2})\n",
    "df['Blood Pressure 1'] = df['Blood Pressure'].apply(lambda x: int(x.split('/')[0]))\n",
    "df['Blood Pressure 2'] = df['Blood Pressure'].apply(lambda x: int(x.split('/')[1]))\n",
    "df['Sleep Disorder'] = df['Sleep Disorder'].map({'Sleep Apnea': 1, 'Insomnia': 1})\n",
    "df['Sleep Disorder'] = df['Sleep Disorder'].fillna(0)\n",
    "df = df.drop(columns=['Blood Pressure', 'Person ID'])"
   ]
  },
  {
   "cell_type": "markdown",
   "metadata": {},
   "source": [
    "4. обучить любой классификатор (какой вам нравится)"
   ]
  },
  {
   "cell_type": "code",
   "execution_count": 38,
   "metadata": {},
   "outputs": [],
   "source": [
    "x_train, x_test, y_train, y_test = train_test_split(df.drop(columns=['Sleep Disorder']), df['Sleep Disorder'], test_size=0.2, random_state=7)"
   ]
  },
  {
   "cell_type": "code",
   "execution_count": 39,
   "metadata": {},
   "outputs": [],
   "source": [
    "model = CatBoostClassifier(silent=True)\n",
    "model.fit(x_train, y_train)\n",
    "y_pred = model.predict(x_test)"
   ]
  },
  {
   "cell_type": "markdown",
   "metadata": {},
   "source": [
    "5. далее разделить ваш набор данных на два множества: P (positives) и U (unlabeled). Причем брать нужно не все положительные (класс 1) примеры, а только лишь часть"
   ]
  },
  {
   "cell_type": "code",
   "execution_count": 40,
   "metadata": {},
   "outputs": [],
   "source": [
    "df_modified = df.copy()\n",
    "true_values_ind = np.where(df_modified['Sleep Disorder'].values == 1)[0]\n",
    "np.random.shuffle(true_values_ind)\n",
    "true_values_sample_len = int(np.ceil(0.15*len(true_values_ind)))\n",
    "true_values_sample = true_values_ind[:true_values_sample_len][0]"
   ]
  },
  {
   "cell_type": "code",
   "execution_count": 41,
   "metadata": {},
   "outputs": [],
   "source": [
    "df_modified['Class Test'] = -1\n",
    "df_modified.loc[true_values_sample, 'Class Test'] = 1"
   ]
  },
  {
   "cell_type": "markdown",
   "metadata": {},
   "source": [
    "6. применить random negative sampling для построения классификатора в новых условиях"
   ]
  },
  {
   "cell_type": "code",
   "execution_count": 42,
   "metadata": {},
   "outputs": [],
   "source": [
    "df_modified = df_modified.sample(frac=1)\n",
    "neg_sample = df_modified[df_modified['Class Test']==-1][:len(df_modified[df_modified['Class Test']==1])]\n",
    "sample_test = df_modified[df_modified['Class Test']==-1][len(df_modified[df_modified['Class Test']==1]):]\n",
    "pos_sample = df_modified[df_modified['Class Test']==1]\n",
    "sample_train = pd.concat([neg_sample, pos_sample]).sample(frac=1)"
   ]
  },
  {
   "cell_type": "markdown",
   "metadata": {},
   "source": [
    "7. сравнить качество с решением из пункта 4 (построить отчет - таблицу метрик)"
   ]
  },
  {
   "cell_type": "code",
   "execution_count": 43,
   "metadata": {},
   "outputs": [],
   "source": [
    "model_np = CatBoostClassifier(silent=True)\n",
    "model_np.fit(\n",
    "    sample_train.drop(columns=['Sleep Disorder', 'Class Test']).values,\n",
    "    sample_train['Sleep Disorder'].values\n",
    "    )\n",
    "y_pred_np = model_np.predict(sample_test.drop(columns=['Sleep Disorder', 'Class Test']).values)"
   ]
  },
  {
   "cell_type": "code",
   "execution_count": 44,
   "metadata": {},
   "outputs": [],
   "source": [
    "def evaluate_results(y_test, y_predict, model_name):\n",
    "    metrics_dict = {\n",
    "        r'model': model_name,\n",
    "        r'f1': f1_score(y_test, y_predict),\n",
    "        r'roc': roc_auc_score(y_test, y_predict),\n",
    "        r'recall': recall_score(y_test, y_predict, average='binary'),\n",
    "        r'precision': precision_score(y_test, y_predict, average='binary')\n",
    "    }\n",
    "    return pd.DataFrame.from_dict(metrics_dict, orient='index').T"
   ]
  },
  {
   "cell_type": "code",
   "execution_count": 45,
   "metadata": {},
   "outputs": [
    {
     "data": {
      "text/html": [
       "<div>\n",
       "<style scoped>\n",
       "    .dataframe tbody tr th:only-of-type {\n",
       "        vertical-align: middle;\n",
       "    }\n",
       "\n",
       "    .dataframe tbody tr th {\n",
       "        vertical-align: top;\n",
       "    }\n",
       "\n",
       "    .dataframe thead th {\n",
       "        text-align: right;\n",
       "    }\n",
       "</style>\n",
       "<table border=\"1\" class=\"dataframe\">\n",
       "  <thead>\n",
       "    <tr style=\"text-align: right;\">\n",
       "      <th></th>\n",
       "      <th>model</th>\n",
       "      <th>f1</th>\n",
       "      <th>roc</th>\n",
       "      <th>recall</th>\n",
       "      <th>precision</th>\n",
       "    </tr>\n",
       "  </thead>\n",
       "  <tbody>\n",
       "    <tr>\n",
       "      <th>0</th>\n",
       "      <td>Without NP</td>\n",
       "      <td>0.962025</td>\n",
       "      <td>0.960714</td>\n",
       "      <td>0.95</td>\n",
       "      <td>0.974359</td>\n",
       "    </tr>\n",
       "    <tr>\n",
       "      <th>1</th>\n",
       "      <td>With NP (p = 0.15)</td>\n",
       "      <td>0.032258</td>\n",
       "      <td>0.169903</td>\n",
       "      <td>0.032468</td>\n",
       "      <td>0.032051</td>\n",
       "    </tr>\n",
       "  </tbody>\n",
       "</table>\n",
       "</div>"
      ],
      "text/plain": [
       "                model        f1       roc    recall precision\n",
       "0          Without NP  0.962025  0.960714      0.95  0.974359\n",
       "1  With NP (p = 0.15)  0.032258  0.169903  0.032468  0.032051"
      ]
     },
     "execution_count": 45,
     "metadata": {},
     "output_type": "execute_result"
    }
   ],
   "source": [
    "metrics_table = evaluate_results(y_test, y_pred, 'Without NP')\n",
    "metrics_table = pd.concat([metrics_table, evaluate_results(sample_test['Sleep Disorder'].values, y_pred_np, 'With NP (p = 0.15)')], axis=0).reset_index(drop=True)\n",
    "metrics_table"
   ]
  },
  {
   "cell_type": "markdown",
   "metadata": {},
   "source": [
    "8. поэкспериментировать с долей P на шаге 5 (как будет меняться качество модели при уменьшении/увеличении размера P)"
   ]
  },
  {
   "cell_type": "code",
   "execution_count": 46,
   "metadata": {},
   "outputs": [],
   "source": [
    "for p in [0.1, 0.2]:\n",
    "    df_modified = df.copy()\n",
    "    true_values_ind = np.where(df_modified['Sleep Disorder'].values == 1)[0]\n",
    "    np.random.shuffle(true_values_ind)\n",
    "    true_values_sample_len = int(np.ceil(p*len(true_values_ind)))\n",
    "    true_values_sample = true_values_ind[:true_values_sample_len][0]\n",
    "    df_modified['Class Test'] = -1\n",
    "    df_modified.loc[true_values_sample, 'Class Test'] = 1\n",
    "    df_modified = df_modified.sample(frac=1)\n",
    "    neg_sample = df_modified[df_modified['Class Test']==-1][:len(df_modified[df_modified['Class Test']==1])]\n",
    "    sample_test = df_modified[df_modified['Class Test']==-1][len(df_modified[df_modified['Class Test']==1]):]\n",
    "    pos_sample = df_modified[df_modified['Class Test']==1]\n",
    "    sample_train = pd.concat([neg_sample, pos_sample]).sample(frac=1)\n",
    "    model_np = CatBoostClassifier(silent=True)\n",
    "    model_np.fit(\n",
    "        sample_train.drop(columns=['Sleep Disorder', 'Class Test']).values,\n",
    "        sample_train['Sleep Disorder'].values\n",
    "        )\n",
    "    y_pred_np = model_np.predict(sample_test.drop(columns=['Sleep Disorder', 'Class Test']).values)\n",
    "    metrics_table = pd.concat([metrics_table, evaluate_results(sample_test['Sleep Disorder'].values, y_pred_np, f'With NP (p = {p})')], axis=0).reset_index(drop=True)"
   ]
  },
  {
   "cell_type": "code",
   "execution_count": 47,
   "metadata": {},
   "outputs": [
    {
     "data": {
      "text/html": [
       "<div>\n",
       "<style scoped>\n",
       "    .dataframe tbody tr th:only-of-type {\n",
       "        vertical-align: middle;\n",
       "    }\n",
       "\n",
       "    .dataframe tbody tr th {\n",
       "        vertical-align: top;\n",
       "    }\n",
       "\n",
       "    .dataframe thead th {\n",
       "        text-align: right;\n",
       "    }\n",
       "</style>\n",
       "<table border=\"1\" class=\"dataframe\">\n",
       "  <thead>\n",
       "    <tr style=\"text-align: right;\">\n",
       "      <th></th>\n",
       "      <th>model</th>\n",
       "      <th>f1</th>\n",
       "      <th>roc</th>\n",
       "      <th>recall</th>\n",
       "      <th>precision</th>\n",
       "    </tr>\n",
       "  </thead>\n",
       "  <tbody>\n",
       "    <tr>\n",
       "      <th>0</th>\n",
       "      <td>Without NP</td>\n",
       "      <td>0.962025</td>\n",
       "      <td>0.960714</td>\n",
       "      <td>0.95</td>\n",
       "      <td>0.974359</td>\n",
       "    </tr>\n",
       "    <tr>\n",
       "      <th>1</th>\n",
       "      <td>With NP (p = 0.15)</td>\n",
       "      <td>0.032258</td>\n",
       "      <td>0.169903</td>\n",
       "      <td>0.032468</td>\n",
       "      <td>0.032051</td>\n",
       "    </tr>\n",
       "    <tr>\n",
       "      <th>2</th>\n",
       "      <td>With NP (p = 0.1)</td>\n",
       "      <td>0.770992</td>\n",
       "      <td>0.811867</td>\n",
       "      <td>0.655844</td>\n",
       "      <td>0.935185</td>\n",
       "    </tr>\n",
       "    <tr>\n",
       "      <th>3</th>\n",
       "      <td>With NP (p = 0.2)</td>\n",
       "      <td>0.75</td>\n",
       "      <td>0.797927</td>\n",
       "      <td>0.623377</td>\n",
       "      <td>0.941176</td>\n",
       "    </tr>\n",
       "  </tbody>\n",
       "</table>\n",
       "</div>"
      ],
      "text/plain": [
       "                model        f1       roc    recall precision\n",
       "0          Without NP  0.962025  0.960714      0.95  0.974359\n",
       "1  With NP (p = 0.15)  0.032258  0.169903  0.032468  0.032051\n",
       "2   With NP (p = 0.1)  0.770992  0.811867  0.655844  0.935185\n",
       "3   With NP (p = 0.2)      0.75  0.797927  0.623377  0.941176"
      ]
     },
     "execution_count": 47,
     "metadata": {},
     "output_type": "execute_result"
    }
   ],
   "source": [
    "metrics_table"
   ]
  },
  {
   "cell_type": "markdown",
   "metadata": {},
   "source": [
    "Видимо, качество должно расти с увеличением p. Хотя, по приведенному примеру трудно делать какие-то выводы. Видимо, был выбран слишком маленький датасет."
   ]
  },
  {
   "cell_type": "markdown",
   "metadata": {},
   "source": []
  }
 ],
 "metadata": {
  "kernelspec": {
   "display_name": "Python 3",
   "language": "python",
   "name": "python3"
  },
  "language_info": {
   "codemirror_mode": {
    "name": "ipython",
    "version": 3
   },
   "file_extension": ".py",
   "mimetype": "text/x-python",
   "name": "python",
   "nbconvert_exporter": "python",
   "pygments_lexer": "ipython3",
   "version": "3.10.6"
  },
  "orig_nbformat": 4
 },
 "nbformat": 4,
 "nbformat_minor": 2
}
