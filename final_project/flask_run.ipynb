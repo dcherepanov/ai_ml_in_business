{
 "cells": [
  {
   "cell_type": "markdown",
   "metadata": {},
   "source": [
    "Импорт библиотек"
   ]
  },
  {
   "cell_type": "code",
   "execution_count": 8,
   "metadata": {},
   "outputs": [],
   "source": [
    "import dill\n",
    "import pandas as pd\n",
    "from flask import Flask, request, jsonify\n",
    "# from flask_ngrok import run_with_ngrok"
   ]
  },
  {
   "cell_type": "markdown",
   "metadata": {},
   "source": [
    "Считываем модель"
   ]
  },
  {
   "cell_type": "code",
   "execution_count": 9,
   "metadata": {},
   "outputs": [],
   "source": [
    "with open('gb_pipeline.dill', 'rb') as f:\n",
    "    model = dill.load(f)"
   ]
  },
  {
   "cell_type": "markdown",
   "metadata": {},
   "source": [
    "Запускаем сервер"
   ]
  },
  {
   "cell_type": "code",
   "execution_count": 10,
   "metadata": {},
   "outputs": [
    {
     "name": "stdout",
     "output_type": "stream",
     "text": [
      " * Serving Flask app '__main__'\n",
      " * Debug mode: off\n"
     ]
    },
    {
     "name": "stderr",
     "output_type": "stream",
     "text": [
      "WARNING: This is a development server. Do not use it in a production deployment. Use a production WSGI server instead.\n",
      " * Running on http://127.0.0.1:8082\n",
      "Press CTRL+C to quit\n",
      "127.0.0.1 - - [19/Jul/2023 14:39:18] \"POST /predict HTTP/1.1\" 200 -\n",
      "127.0.0.1 - - [19/Jul/2023 14:39:18] \"POST /predict HTTP/1.1\" 200 -\n",
      "127.0.0.1 - - [19/Jul/2023 14:39:18] \"POST /predict HTTP/1.1\" 200 -\n",
      "127.0.0.1 - - [19/Jul/2023 14:39:18] \"POST /predict HTTP/1.1\" 200 -\n",
      "127.0.0.1 - - [19/Jul/2023 14:39:18] \"POST /predict HTTP/1.1\" 200 -\n",
      "127.0.0.1 - - [19/Jul/2023 14:39:18] \"POST /predict HTTP/1.1\" 200 -\n",
      "127.0.0.1 - - [19/Jul/2023 14:39:18] \"POST /predict HTTP/1.1\" 200 -\n",
      "127.0.0.1 - - [19/Jul/2023 14:39:18] \"POST /predict HTTP/1.1\" 200 -\n",
      "127.0.0.1 - - [19/Jul/2023 14:39:18] \"POST /predict HTTP/1.1\" 200 -\n",
      "127.0.0.1 - - [19/Jul/2023 14:39:18] \"POST /predict HTTP/1.1\" 200 -\n",
      "127.0.0.1 - - [19/Jul/2023 14:39:18] \"POST /predict HTTP/1.1\" 200 -\n",
      "127.0.0.1 - - [19/Jul/2023 14:39:18] \"POST /predict HTTP/1.1\" 200 -\n",
      "127.0.0.1 - - [19/Jul/2023 14:39:18] \"POST /predict HTTP/1.1\" 200 -\n",
      "127.0.0.1 - - [19/Jul/2023 14:39:18] \"POST /predict HTTP/1.1\" 200 -\n",
      "127.0.0.1 - - [19/Jul/2023 14:39:18] \"POST /predict HTTP/1.1\" 200 -\n"
     ]
    },
    {
     "name": "stdout",
     "output_type": "stream",
     "text": [
      "OK\n",
      "OK\n",
      "OK\n",
      "OK\n",
      "OK\n",
      "OK\n",
      "OK\n",
      "OK\n",
      "OK\n",
      "OK\n",
      "OK\n",
      "OK\n",
      "OK\n",
      "OK\n",
      "OK\n",
      "OK\n"
     ]
    },
    {
     "name": "stderr",
     "output_type": "stream",
     "text": [
      "127.0.0.1 - - [19/Jul/2023 14:39:18] \"POST /predict HTTP/1.1\" 200 -\n",
      "127.0.0.1 - - [19/Jul/2023 14:39:18] \"POST /predict HTTP/1.1\" 200 -\n",
      "127.0.0.1 - - [19/Jul/2023 14:39:18] \"POST /predict HTTP/1.1\" 200 -\n",
      "127.0.0.1 - - [19/Jul/2023 14:39:18] \"POST /predict HTTP/1.1\" 200 -\n",
      "127.0.0.1 - - [19/Jul/2023 14:39:18] \"POST /predict HTTP/1.1\" 200 -\n",
      "127.0.0.1 - - [19/Jul/2023 14:39:18] \"POST /predict HTTP/1.1\" 200 -\n",
      "127.0.0.1 - - [19/Jul/2023 14:39:18] \"POST /predict HTTP/1.1\" 200 -\n",
      "127.0.0.1 - - [19/Jul/2023 14:39:18] \"POST /predict HTTP/1.1\" 200 -\n",
      "127.0.0.1 - - [19/Jul/2023 14:39:18] \"POST /predict HTTP/1.1\" 200 -\n",
      "127.0.0.1 - - [19/Jul/2023 14:39:18] \"POST /predict HTTP/1.1\" 200 -\n",
      "127.0.0.1 - - [19/Jul/2023 14:39:18] \"POST /predict HTTP/1.1\" 200 -\n",
      "127.0.0.1 - - [19/Jul/2023 14:39:18] \"POST /predict HTTP/1.1\" 200 -\n",
      "127.0.0.1 - - [19/Jul/2023 14:39:18] \"POST /predict HTTP/1.1\" 200 -\n",
      "127.0.0.1 - - [19/Jul/2023 14:39:18] \"POST /predict HTTP/1.1\" 200 -\n",
      "127.0.0.1 - - [19/Jul/2023 14:39:18] \"POST /predict HTTP/1.1\" 200 -\n"
     ]
    },
    {
     "name": "stdout",
     "output_type": "stream",
     "text": [
      "OK\n",
      "OK\n",
      "OK\n",
      "OK\n",
      "OK\n",
      "OK\n",
      "OK\n",
      "OK\n",
      "OK\n",
      "OK\n",
      "OK\n",
      "OK\n",
      "OK\n",
      "OK\n",
      "OK\n"
     ]
    },
    {
     "name": "stderr",
     "output_type": "stream",
     "text": [
      "127.0.0.1 - - [19/Jul/2023 14:39:18] \"POST /predict HTTP/1.1\" 200 -\n",
      "127.0.0.1 - - [19/Jul/2023 14:39:18] \"POST /predict HTTP/1.1\" 200 -\n",
      "127.0.0.1 - - [19/Jul/2023 14:39:18] \"POST /predict HTTP/1.1\" 200 -\n",
      "127.0.0.1 - - [19/Jul/2023 14:39:18] \"POST /predict HTTP/1.1\" 200 -\n",
      "127.0.0.1 - - [19/Jul/2023 14:39:18] \"POST /predict HTTP/1.1\" 200 -\n",
      "127.0.0.1 - - [19/Jul/2023 14:39:18] \"POST /predict HTTP/1.1\" 200 -\n",
      "127.0.0.1 - - [19/Jul/2023 14:39:18] \"POST /predict HTTP/1.1\" 200 -\n",
      "127.0.0.1 - - [19/Jul/2023 14:39:18] \"POST /predict HTTP/1.1\" 200 -\n",
      "127.0.0.1 - - [19/Jul/2023 14:39:18] \"POST /predict HTTP/1.1\" 200 -\n",
      "127.0.0.1 - - [19/Jul/2023 14:39:19] \"POST /predict HTTP/1.1\" 200 -\n",
      "127.0.0.1 - - [19/Jul/2023 14:39:19] \"POST /predict HTTP/1.1\" 200 -\n",
      "127.0.0.1 - - [19/Jul/2023 14:39:19] \"POST /predict HTTP/1.1\" 200 -\n",
      "127.0.0.1 - - [19/Jul/2023 14:39:19] \"POST /predict HTTP/1.1\" 200 -\n",
      "127.0.0.1 - - [19/Jul/2023 14:39:19] \"POST /predict HTTP/1.1\" 200 -\n",
      "127.0.0.1 - - [19/Jul/2023 14:39:19] \"POST /predict HTTP/1.1\" 200 -\n",
      "127.0.0.1 - - [19/Jul/2023 14:39:19] \"POST /predict HTTP/1.1\" 200 -\n"
     ]
    },
    {
     "name": "stdout",
     "output_type": "stream",
     "text": [
      "OK\n",
      "OK\n",
      "OK\n",
      "OK\n",
      "OK\n",
      "OK\n",
      "OK\n",
      "OK\n",
      "OK\n",
      "OK\n",
      "OK\n",
      "OK\n",
      "OK\n",
      "OK\n",
      "OK\n",
      "OK\n"
     ]
    },
    {
     "name": "stderr",
     "output_type": "stream",
     "text": [
      "127.0.0.1 - - [19/Jul/2023 14:39:19] \"POST /predict HTTP/1.1\" 200 -\n",
      "127.0.0.1 - - [19/Jul/2023 14:39:19] \"POST /predict HTTP/1.1\" 200 -\n",
      "127.0.0.1 - - [19/Jul/2023 14:39:19] \"POST /predict HTTP/1.1\" 200 -\n",
      "127.0.0.1 - - [19/Jul/2023 14:39:19] \"POST /predict HTTP/1.1\" 200 -\n",
      "127.0.0.1 - - [19/Jul/2023 14:39:19] \"POST /predict HTTP/1.1\" 200 -\n"
     ]
    },
    {
     "name": "stdout",
     "output_type": "stream",
     "text": [
      "OK\n",
      "OK\n",
      "OK\n",
      "OK\n"
     ]
    }
   ],
   "source": [
    "app = Flask(__name__)\n",
    "# run_with_ngrok(app)\n",
    "\n",
    "@app.route(\"/\", methods=[\"GET\"])\n",
    "def general():\n",
    "    return \"Welcome to prediction process\"\n",
    "\n",
    "@app.route('/predict', methods=['POST'])\n",
    "def predict():\n",
    "    data = {\"success\": False}\n",
    "    request_json = request.get_json()\n",
    "    preds = model.predict_proba(pd.DataFrame(request_json))\n",
    "    data[\"predictions\"] = preds[:, 1][0]\n",
    "    data[\"success\"] = True\n",
    "    print('OK')\n",
    "    return jsonify(data)\n",
    "\n",
    "\n",
    "if __name__ == '__main__':\n",
    "    app.run(port=8082)"
   ]
  },
  {
   "cell_type": "code",
   "execution_count": null,
   "metadata": {},
   "outputs": [],
   "source": []
  }
 ],
 "metadata": {
  "kernelspec": {
   "display_name": "Python 3",
   "language": "python",
   "name": "python3"
  },
  "language_info": {
   "codemirror_mode": {
    "name": "ipython",
    "version": 3
   },
   "file_extension": ".py",
   "mimetype": "text/x-python",
   "name": "python",
   "nbconvert_exporter": "python",
   "pygments_lexer": "ipython3",
   "version": "3.10.6"
  },
  "orig_nbformat": 4
 },
 "nbformat": 4,
 "nbformat_minor": 2
}
